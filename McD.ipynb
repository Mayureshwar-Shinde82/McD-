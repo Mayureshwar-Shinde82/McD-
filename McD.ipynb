{
  "nbformat": 4,
  "nbformat_minor": 0,
  "metadata": {
    "colab": {
      "provenance": []
    },
    "kernelspec": {
      "name": "python3",
      "display_name": "Python 3"
    },
    "language_info": {
      "name": "python"
    }
  },
  "cells": [
    {
      "cell_type": "code",
      "execution_count": null,
      "metadata": {
        "colab": {
          "base_uri": "https://localhost:8080/"
        },
        "id": "D5i12-QClqkF",
        "outputId": "a68cb88c-6671-4186-c4e7-73d62dcff680"
      },
      "outputs": [
        {
          "output_type": "stream",
          "name": "stdout",
          "text": [
            "Best number of clusters: 8\n"
          ]
        }
      ],
      "source": [
        "import numpy as np\n",
        "import pandas as pd\n",
        "from sklearn.cluster import KMeans\n",
        "from sklearn.metrics import silhouette_score\n",
        "\n",
        "mcdonalds = pd.read_csv(\"https://homepage.boku.ac.at/leisch/MSA/datasets/mcdonalds.csv\")\n",
        "\n",
        "MD_x = mcdonalds.iloc[:, 0:11].replace(\"Yes\", 1).replace(\"No\", 0).to_numpy()\n",
        "\n",
        "np.random.seed(1234)\n",
        "\n",
        "nrep = 10\n",
        "silhouette_scores = []\n",
        "\n",
        "for k in range(2, 9):\n",
        "    km = KMeans(n_clusters=k, n_init=nrep).fit(MD_x)\n",
        "    labels = km.labels_\n",
        "    score = silhouette_score(MD_x, labels)\n",
        "    silhouette_scores.append(score)\n",
        "\n",
        "best_k = np.argmax(silhouette_scores) + 2\n",
        "print(\"Best number of clusters:\", best_k)\n",
        "\n",
        "km = KMeans(n_clusters=best_k, n_init=nrep).fit(MD_x)\n",
        "labels = km.labels_"
      ]
    },
    {
      "cell_type": "code",
      "source": [
        "import matplotlib.pyplot as plt\n",
        "\n",
        "plt.plot(range(2, 9), silhouette_scores)\n",
        "plt.xlabel(\"number of clusters\")\n",
        "plt.ylabel(\"silhouette score\")\n",
        "plt.show()"
      ],
      "metadata": {
        "colab": {
          "base_uri": "https://localhost:8080/",
          "height": 279
        },
        "id": "ybTOVi-Rp8Uu",
        "outputId": "ecf79c8f-2afe-474b-e654-f5f51d959ee6"
      },
      "execution_count": null,
      "outputs": [
        {
          "output_type": "display_data",
          "data": {
            "text/plain": [
              "<Figure size 432x288 with 1 Axes>"
            ],
            "image/png": "[encoded data removed]"
          },
          "metadata": {
            "needs_background": "light"
          }
        }
      ]
    },
    {
      "cell_type": "code",
      "source": [
        "cluster_labels = km.labels_\n",
        "plt.hist(cluster_labels, bins=2, range=(0, 1))\n",
        "plt.xlim(0, 1)\n",
        "plt.show()"
      ],
      "metadata": {
        "colab": {
          "base_uri": "https://localhost:8080/",
          "height": 265
        },
        "id": "SeCror2pq7Z_",
        "outputId": "0ec8f0d0-95c5-4923-8af0-879351487bc3"
      },
      "execution_count": null,
      "outputs": [
        {
          "output_type": "display_data",
          "data": {
            "text/plain": [
              "<Figure size 432x288 with 1 Axes>"
            ],
            "image/png": "[encoded data removed]"
          },
          "metadata": {
            "needs_background": "light"
          }
        }
      ]
    },
    {
      "cell_type": "code",
      "source": [],
      "metadata": {
        "id": "WUT6Vm33xYYw"
      },
      "execution_count": null,
      "outputs": []
    }
  ]
}